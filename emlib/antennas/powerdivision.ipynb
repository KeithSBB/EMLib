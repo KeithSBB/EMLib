{
 "cells": [
  {
   "cell_type": "markdown",
   "id": "393259f7-1dd2-4760-b5df-795af864e40f",
   "metadata": {},
   "source": [
    "# Power Division Notebook\n",
    "\n",
    "This notebook investigates the power output of two non orthogonal polarizations\n",
    "\n"
   ]
  },
  {
   "cell_type": "code",
   "execution_count": 1,
   "id": "6e44d667-de7e-40c9-983f-8ee55b79035c",
   "metadata": {
    "tags": []
   },
   "outputs": [],
   "source": [
    "import EMLib as em\n",
    "import numpy as np"
   ]
  },
  {
   "cell_type": "markdown",
   "id": "aabd2995-efeb-42a0-bd07-4494a6b1bd0a",
   "metadata": {},
   "source": [
    "## we begin with defining two polarizations Pol1 and Pol2"
   ]
  },
  {
   "cell_type": "code",
   "execution_count": 6,
   "id": "71433761-b626-41c5-820d-1a5214259cfa",
   "metadata": {
    "tags": []
   },
   "outputs": [
    {
     "name": "stdout",
     "output_type": "stream",
     "text": [
      "The far field power is -156.10959152614467 dB\n",
      "[0.70710678+0.j 0.70710678+0.j] v\n",
      "[4.32978028e-17+0.70710678j 4.32978028e-17-0.70710678j] v\n",
      "[-7.49879891e-33+0.j  2.00000000e+00+0.j] v\n",
      "Polarization: tau = 45.0 deg, lamda = -45.0 deg\n",
      "The far field power is 3.0102999566398108 dB\n"
     ]
    }
   ],
   "source": [
    "a1 = em.Angle(0, 'deg')\n",
    "a2 = em.Angle(90, 'deg')\n",
    "\n",
    "pol1 = em.Polarization(a1, em.Angle(0, 'deg'))\n",
    "pol2 = em.Polarization(a2, em.Angle(0, 'deg'))\n",
    "\n",
    "# the drive excitations:\n",
    "E1 = em.Voltage(1)\n",
    "E2 = em.Voltage(np.exp(1j*np.pi/2))\n",
    "\n",
    "# the H and V orthogonal components are:\n",
    "\n",
    "e1h = E1 * np.cos(a1)\n",
    "e1v = E1 * np.sin(a1)\n",
    "e2h = E2 * np.cos(a2)\n",
    "e2v = E2 * np.sin(a2)\n",
    "\n",
    "ev = e1v + e2v\n",
    "eh = e1h + e2h\n",
    "\n",
    "# If we vectorially combine these:\n",
    "\n",
    "PowerFarfield = eh**2 + ev**2\n",
    "print(f\"The far field power is {PowerFarfield.u('dB')/2} dB\")\n",
    "\n",
    "# now with em objects\n",
    "pol1cvec = pol1.cirPolVec()\n",
    "pol2cvec = pol2.cirPolVec()\n",
    "print(pol1cvec)\n",
    "print(pol2cvec)\n",
    "\n",
    "\n",
    "polcvec = E1*pol1cvec + E2*pol2cvec\n",
    "print(polcvec**2)\n",
    "\n",
    "polarb = em.Polarization.fromCirPolVec(polcvec)\n",
    "\n",
    "print(polarb)\n",
    "\n",
    "PowerFarfield = em.Voltage(np.abs(polcvec[0])**2 + np.abs(polcvec[1])**2)\n",
    "\n",
    "print(f\"The far field power is {PowerFarfield.u('dB')/2} dB\")    \n"
   ]
  },
  {
   "cell_type": "markdown",
   "id": "01a54ced-ae6d-42ab-bb48-9d0253b5e96f",
   "metadata": {},
   "source": [
    "## Now, we need to go in reverse.  starting with a polarization and two drive polarizations, what is the power division.\\?"
   ]
  },
  {
   "cell_type": "code",
   "execution_count": 4,
   "id": "090adc2d-5a69-4fc0-b471-1a981b0c8785",
   "metadata": {},
   "outputs": [
    {
     "name": "stdout",
     "output_type": "stream",
     "text": [
      "Polarization: tau = 45.0 deg, lamda = 0.0 deg\n",
      "Polarization: tau = 44.99999999999999 deg, lamda = 0.0 deg\n",
      "E1: 2.3950403514947416 vs E1a; 1.3742668900042245\n",
      "(1-6.456004907361064e-17j)\n",
      "(-7.078535833356284e-17-0.7002075382097098j)\n",
      "\n",
      "[0.69636424+0.1227878j 0.69636424-0.1227878j] v\n",
      "[0.1227878+0.69636424j 0.1227878-0.69636424j] v\n",
      "\n",
      "Polarization: tau = 23.39041055314291 deg, lamda = 31.00455464110859 deg\n",
      "The far field power is 1.7327096115028424 dB\n"
     ]
    }
   ],
   "source": [
    "a1 = em.Angle(10, 'deg')\n",
    "a2 = em.Angle(80, 'deg')\n",
    "\n",
    "pol1 = em.Polarization(a1, em.Angle(0, 'deg'))\n",
    "pol2 = em.Polarization(a2, em.Angle(0, 'deg'))\n",
    "pol1cvec = pol1.cirPolVec()\n",
    "pol2cvec = pol2.cirPolVec()\n",
    "\n",
    "polarb = em.Polarization(em.Angle(45, 'deg'), em.Angle(0, 'deg'))\n",
    "print(polarb)\n",
    "polarbcvec = polarb.cirPolVec()\n",
    "\n",
    "\n",
    "print(em.Polarization.fromCirPolVec(polarbcvec))\n",
    "'''\n",
    "unknowns are E1, E2 and a12\n",
    "\n",
    "polarbcvec[0] == E1*np.exp(1j*a12)*pol1cvec[0] + E2*np.exp(-1j*a12)*pol2cvec[0]\n",
    "polarbcvec[1] == E1*np.exp(1j*a12)*pol1cvec[1] + E2*np.exp(-1j*a12)*pol2cvec[1]\n",
    "\n",
    "so\n",
    "E1 == (polarbcvec[1] - E2*np.exp(-1j*a12)*pol2cvec[1])/(np.exp(1j*a12)*pol1cvec[1])\n",
    "also\n",
    "E1 = (polarbcvec[0] - E2*np.exp(-1j*a12)*pol2cvec[0])/(np.exp(1j*a12)*pol1cvec[0])\n",
    "\n",
    "substututing into first gives\n",
    "polarbcvec[0] == ((polarbcvec[1] - E2*pol2cvec[1])/pol1cvec[1])*pol1cvec[0] + E2*pol2cvec[0] \n",
    "polarbcvec[0] == polarbcvec[1]*pol1cvec[0]/pol1cvec[1] - E2*pol2cvec[1]*pol1cvec[0]/pol1cvec[1] + E2*pol2cvec[0] \n",
    "\n",
    " E2*pol2cvec[1]*pol1cvec[0]/pol1cvec[1] + E2*pol2cvec[0] = polarbcvec[1]*pol1cvec[0]/pol1cvec[1] - polarbcvec[0]\n",
    " \n",
    " E2 == (polarbcvec[1]*pol1cvec[0]/pol1cvec[1] - polarbcvec[0]) / (pol2cvec[1]*pol1cvec[0]/pol1cvec[1] + pol2cvec[0])\n",
    "\n",
    "'''\n",
    "E2 = (polarbcvec[1]*pol1cvec[0]/pol1cvec[1] - polarbcvec[0]) / (pol2cvec[1]*pol1cvec[0]/pol1cvec[1] + pol2cvec[0])\n",
    "\n",
    "E1 = (polarbcvec[1] - E2*pol2cvec[1])/pol1cvec[1]\n",
    "E1a = (polarbcvec[0] - E2*pol2cvec[0])/pol1cvec[0]\n",
    "\n",
    "print(f\"E1: {np.abs(E1)} vs E1a; {np.abs(E1a)}\")\n",
    "\n",
    "Enorm = np.max([np.abs(E1), np.abs(E2)])\n",
    "\n",
    "E1 = E1 / Enorm\n",
    "E2 = E2 / Enorm\n",
    "\n",
    "\n",
    "\n",
    "print(E1)\n",
    "print(E2)\n",
    "print(\"\")\n",
    "\n",
    "# the H and V orthogonal components are:\n",
    "\n",
    "#e1h = E1 * np.cos(a1)\n",
    "#e1v = E1 * np.sin(a1)\n",
    "#e2h = E2 * np.cos(a2)\n",
    "#e2v = E2 * np.sin(a2)\n",
    "\n",
    "#ev = e1v + e2v\n",
    "#eh = e1h + e2h\n",
    "\n",
    "# If we vectorially combine these:\n",
    "\n",
    "\n",
    "# now with em objects\n",
    "pol1cvec = pol1.cirPolVec()\n",
    "pol2cvec = pol2.cirPolVec()\n",
    "print(pol1cvec)\n",
    "print(pol2cvec)\n",
    "print(\"\")\n",
    "\n",
    "\n",
    "polcvec = E1*pol1cvec + E2*pol2cvec\n",
    "#print(polcvec**2)\n",
    "\n",
    "polarb2 = em.Polarization.fromCirPolVec(polcvec)\n",
    "\n",
    "print(polarb2)\n",
    "\n",
    "PowerFarfield = em.Voltage(np.abs(polcvec[0])**2 + np.abs(polcvec[1])**2)\n",
    "\n",
    "print(f\"The far field power is {PowerFarfield.u('dB')/2} dB\")  "
   ]
  },
  {
   "cell_type": "code",
   "execution_count": null,
   "id": "f2ba82c1-58fb-4dc9-9c0f-7a63f1fedc2f",
   "metadata": {},
   "outputs": [],
   "source": []
  }
 ],
 "metadata": {
  "kernelspec": {
   "display_name": "Python 3 (ipykernel)",
   "language": "python",
   "name": "python3"
  },
  "language_info": {
   "codemirror_mode": {
    "name": "ipython",
    "version": 3
   },
   "file_extension": ".py",
   "mimetype": "text/x-python",
   "name": "python",
   "nbconvert_exporter": "python",
   "pygments_lexer": "ipython3",
   "version": "3.11.5"
  }
 },
 "nbformat": 4,
 "nbformat_minor": 5
}
